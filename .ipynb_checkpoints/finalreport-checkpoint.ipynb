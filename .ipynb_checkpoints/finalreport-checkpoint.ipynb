{
 "cells": [
  {
   "cell_type": "markdown",
   "id": "ba39a51f-fb41-40d8-b448-54a2597d0bca",
   "metadata": {},
   "source": [
    "** Note: Please read the README.md and go through coefficients.ipynb and machinelearning.ipynb when you have the chance."
   ]
  },
  {
   "cell_type": "markdown",
   "id": "125e9a22-d267-4466-9238-fa4c64fe4153",
   "metadata": {},
   "source": [
    "## Abstract\n",
    "This report encompasses the relationship of love interests, female characters, and more with the sales of otome games. There are 3 deliverables: a viewable graph, **coefficients.ipynb** which explains the relationships and correlations between different factors and the sales of otome games, and **machinelearning.ipynb** which creates an \"optimal otome game\" that maximizes sales by having a certain number of each factor. Overall, the results of this study should not be taken seriously due to the nature of the market and the limited size of the dataset."
   ]
  },
  {
   "cell_type": "markdown",
   "id": "421cf6cc-ee59-46bf-ae71-4c0a084fca6e",
   "metadata": {},
   "source": [
    "## Overview and Research Questions:\n",
    "Otome games are a type of romance genre games where the player plays as a female protagonist and can romance one or more male love interests. Markets are increasingly growing in the West, as localization companies like Aksys Games and PQube have been localizing this genre to a Western audience. There is a dedicated community to these games, both in the West and in Japan, mostly consisting of people who identify as women."
   ]
  },
  {
   "cell_type": "markdown",
   "id": "81558d2b-f7a4-4c2e-90dd-0a7efea58d23",
   "metadata": {},
   "source": [
    "## Background or Related Work:\n",
    "There is one paper on female representation in three popular Chinese mobile otome games, such as Love and Producer, Tears of Themis, and Light and Night (in which I've played two of them myself). Nonetheless, what the paper says is still relevant. The paper itself concluded that \"there is an \n",
    "improvement of female representation in Chinese otome \n",
    "games to construct more diverse and professional\n",
    "female images, however, stereotypes influenced by\n",
    "traditional gender norms still exist.\" (https://www.atlantis-press.com/proceedings/icela-21/125969. This paper, however, only looks at female protagonists rather than other prominent side characters within the games. It also looks mostly at Chinese mobile otome games, which is not within the realms of what my research entails. Though the insights of this literature review were extremely insightful, I believe it is a good idea to move towards the realm of Japanese otome games, where the otome game genre first originated, and conduct a statistical review on other female characters that are not just the main female protagonist. I also think it would be valuable to have a statistical lens towards this topic."
   ]
  },
  {
   "cell_type": "markdown",
   "id": "fc8a8b9e-6cc0-43b5-9296-9fa1b5f9e60f",
   "metadata": {},
   "source": [
    "## Research Questions\n",
    "Within these games, there are often female characters that exist as supporting characters or even as other female protagonists. Does the presence of more female characters increase the success of the games, and if so, what does that say about the writers? And what does that say about the possible presence of misogyny within the otome game community where the focus is typically on male characters? Some direct research questions can include: How do female characters within otome games impact the sales of the games? Conversely, how do male characters within otome games impact the sales of the games?"
   ]
  },
  {
   "cell_type": "markdown",
   "id": "783fbd2e-b43b-42f6-ad40-7d6235afde70",
   "metadata": {},
   "source": [
    "## Methodology\n",
    "I used a dataset from Kaggle (https://www.kaggle.com/datasets/isabell2018/female-characters-in-japanese-otome-games?select=OtomeGames.csv) and filled in some holes in the data with a dataset from ggirluriage (https://w.atwiki.jp/ggirluriage/pages/16.html).\n",
    "\n",
    "\n",
    "First, I created a scatter plot graph with Google Sheets that showed the relationship between the total sales of games vs the number of female characters.\n",
    "\n",
    "\n",
    "I also approached the problem by creating a file called **coefficients.ipynb** where I calculated the Pearson's, Spearman's, and Kendall's coefficient regarding otome game sales and female/male characters to see if they are related in any sense. To do that, I referred to this following link: https://realpython.com/numpy-scipy-pandas-correlation-python/\n",
    "\n",
    "\n",
    "I created another file named **machinelearning.ipynb** where I created a machine learning model with Scikit Learn. I created a linear regression model where I had optimized CopiesTotal and Copies1stWeek with several of the values in OtomeGames.csv. This would, theoretically, make a best selling otome game if they had these several factors in them. I referenced my code from the following website: https://www.datacamp.com/tutorial/machine-learning-python\n"
   ]
  },
  {
   "cell_type": "markdown",
   "id": "c459b2a1-72c6-4def-aee0-19152b11a38a",
   "metadata": {},
   "source": [
    "## Findings\n",
    "Within my work in **coefficients.ipynb**, I found that the number of main female characters were too statistically insignificant to have positively or negatively correlated with the sales of otome games. However, I have found that female love interests can slightly negatively correlate to sales. Female friendship interests correlated slightly positively to the sales of otome games. \n",
    "\n",
    "Within my work in **machinelearning.ipynb**, I found out that the optimal otome game has 19 love interests, 1 female character, 0 or 1 female love intersts, 3 female friendship intersts, and 0 LGBT characters. "
   ]
  },
  {
   "cell_type": "markdown",
   "id": "3a1ceb1a-4c92-48f9-862c-eb22ba34ffa5",
   "metadata": {},
   "source": [
    "## Discussion\n",
    "### Limitations and Implications\n",
    "Some things to notice is that there were a lot of missing pieces of data from a lot of the dataset, which made the dataset even smaller when it came to running these tests against it. It is also important to keep in mind that there were very limited games that had one or more female love interests in the first place, with only two games in the entire dataset that even had at least one female love interest (most people don't classify games as an otome game if there are female love interests. Most games are gender segregated in terms of romance).\n",
    "\n",
    "Some things to keep in mind with **machinelearning.ipynb** is that the linear regression models that I had created were extremely innacurate to the actual dataset, even though it was trained on it. The results that the model spit out, ultimately, was very innacurate (I mean, come on, 19 love interests? That's the maximum the OtomeGames.csv dataset even had with Angelique Etoile! Most games don't come REMOTELY close to that, especially modern otome games...) and should not be taken seriously. It should be noted in **coefficients.ipynb** that correlation does not necessarily mean causation and that the correlations that were found in that file should not be taken seriously either.\n",
    "\n",
    "To answer some of the research questions regarding the misogyny of otome game writers and community members, if we blindly follow these results, we could possibly conclude that they are indeed misogynistic and homophobic. However, due to the innacuracy of the data and the fact that correlation does not mean causation, that is not a safe conclusion to make. \n"
   ]
  },
  {
   "cell_type": "markdown",
   "id": "fff3f952-c2af-4adc-a5a4-9d5534b88200",
   "metadata": {},
   "source": [
    "## Conclusion\n",
    "\n",
    "Overall, otome games sales increase by many other factors other than the number of love interests and female characters. To understand what further causes sales would require a lot more research than the characteristics of the game itself. The process of doing correlation coefficients and machine learning itself was extremely fun, albeit innaccurate and coincidental. To improve this research, I would recommend adding more otome games with more recent titles and include overseas sales into the mix. I would also improve OtomeGames.csv to have more numerical values as well, such as marketing done (for example, # of Twitter posts on their official account, # of non-game adaptations, etc). In the future, I would like to perform a similar methodolody towards non-Japanese otome games, such as Chinese mobile otome games. The current research done within this project is innaccurate due to the nature and unpredictability of this genre of work. "
   ]
  }
 ],
 "metadata": {
  "kernelspec": {
   "display_name": "Python 3 (ipykernel)",
   "language": "python",
   "name": "python3"
  },
  "language_info": {
   "codemirror_mode": {
    "name": "ipython",
    "version": 3
   },
   "file_extension": ".py",
   "mimetype": "text/x-python",
   "name": "python",
   "nbconvert_exporter": "python",
   "pygments_lexer": "ipython3",
   "version": "3.10.13"
  }
 },
 "nbformat": 4,
 "nbformat_minor": 5
}
