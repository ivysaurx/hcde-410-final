{
 "cells": [
  {
   "cell_type": "markdown",
   "id": "b7965ce9-571c-4e13-845b-3b8af3416550",
   "metadata": {},
   "source": []
  },
  {
   "cell_type": "code",
   "execution_count": 1,
   "id": "d3dab30b-e57a-4da6-b363-a302962e355b",
   "metadata": {},
   "outputs": [],
   "source": [
    "import csv\n",
    "def prepare_datasets(file_path):\n",
    "    \"\"\" \n",
    "    Accepts: path to a tab-separated plaintext file\n",
    "    Returns: a list containing a dictionary for every row in the file, \n",
    "        with the file column headers as keys\n",
    "    \"\"\"\n",
    "    \n",
    "    with open(file_path) as infile:\n",
    "        reader = csv.DictReader(infile, delimiter=',')\n",
    "        list_of_dicts = [dict(r) for r in reader]\n",
    "        \n",
    "    return list_of_dicts"
   ]
  },
  {
   "cell_type": "code",
   "execution_count": 2,
   "id": "ee5d9991-f067-478a-9627-3385d5b1cb0d",
   "metadata": {},
   "outputs": [
    {
     "name": "stdout",
     "output_type": "stream",
     "text": [
      "{'\\ufeffName': 'アンジェリークSpecial2', 'Year': '1998', 'Date': '96/12/06', 'Copies1stWeek': '14024', 'CopiesTotal': '14024', 'Platform': 'PS', 'Company': 'コーエー', 'CERO': '-', 'NoLI': '10', 'NoFemale': '2', 'NoFemaleLI': '0', 'NoFemaleFI': '0', 'NoLGBT': '0', 'NoCDM': '0', 'NoCDF': '0', '': '', 'Memo': '森村蘭（黑龙神子 无END 类反派）'}\n",
      "{'\\ufeffName': 'アンジェリーク・コレット', 'Game': 'アンジェリーク', 'Year': '1994', 'Release Date': '94/9/23', 'Race': '1', 'Age': '2', 'IsLI': '0', 'IsFI': '0', 'IsSingle': '1', 'IsHeroine': '1', 'IsV': '0'}\n"
     ]
    }
   ],
   "source": [
    "otome_games = prepare_datasets(\"csvfiles/OtomeGames.csv\")\n",
    "print(otome_games[0])"
   ]
  },
  {
   "cell_type": "code",
   "execution_count": 3,
   "id": "d89dd436-dcc5-4400-a1b4-d8cb224be45b",
   "metadata": {},
   "outputs": [],
   "source": [
    "import pandas as pd\n",
    "import numpy as np\n",
    "games_df = pd.DataFrame(otome_games)"
   ]
  },
  {
   "cell_type": "code",
   "execution_count": 4,
   "id": "4fddd210-25f5-4063-9df9-6545096269e7",
   "metadata": {},
   "outputs": [
    {
     "name": "stderr",
     "output_type": "stream",
     "text": [
      "/tmp/ipykernel_225/1551119597.py:11: SettingWithCopyWarning: \n",
      "A value is trying to be set on a copy of a slice from a DataFrame\n",
      "\n",
      "See the caveats in the documentation: https://pandas.pydata.org/pandas-docs/stable/user_guide/indexing.html#returning-a-view-versus-a-copy\n",
      "  new_games_df.replace('', np.nan, inplace=True)\n"
     ]
    },
    {
     "name": "stdout",
     "output_type": "stream",
     "text": [
      "                   Year  Copies1stWeek  CopiesTotal      NoLI  NoFemale  \\\n",
      "Year           1.000000      -0.428894    -0.324112 -0.423833  0.102398   \n",
      "Copies1stWeek -0.428894       1.000000     0.878076  0.398802 -0.093105   \n",
      "CopiesTotal   -0.324112       0.878076     1.000000  0.306858  0.037081   \n",
      "NoLI          -0.423833       0.398802     0.306858  1.000000 -0.042660   \n",
      "NoFemale       0.102398      -0.093105     0.037081 -0.042660  1.000000   \n",
      "NoFemaleLI    -0.150829      -0.093844    -0.073801  0.044341  0.031413   \n",
      "NoFemaleLI    -0.150829      -0.093844    -0.073801  0.044341  0.031413   \n",
      "NoFemaleFI    -0.342411       0.338679     0.479197  0.425383  0.091782   \n",
      "NoLGBT         0.024055      -0.102215    -0.083519  0.048320 -0.030395   \n",
      "NoCDM          0.171237      -0.057898    -0.081538 -0.007860 -0.086901   \n",
      "NoCDF               NaN            NaN          NaN       NaN       NaN   \n",
      "\n",
      "               NoFemaleLI  NoFemaleLI  NoFemaleFI    NoLGBT     NoCDM  NoCDF  \n",
      "Year            -0.150829   -0.150829   -0.342411  0.024055  0.171237    NaN  \n",
      "Copies1stWeek   -0.093844   -0.093844    0.338679 -0.102215 -0.057898    NaN  \n",
      "CopiesTotal     -0.073801   -0.073801    0.479197 -0.083519 -0.081538    NaN  \n",
      "NoLI             0.044341    0.044341    0.425383  0.048320 -0.007860    NaN  \n",
      "NoFemale         0.031413    0.031413    0.091782 -0.030395 -0.086901    NaN  \n",
      "NoFemaleLI       1.000000    1.000000    0.286812  0.532482 -0.024074    NaN  \n",
      "NoFemaleLI       1.000000    1.000000    0.286812  0.532482 -0.024074    NaN  \n",
      "NoFemaleFI       0.286812    0.286812    1.000000  0.088336 -0.059328    NaN  \n",
      "NoLGBT           0.532482    0.532482    0.088336  1.000000 -0.034754    NaN  \n",
      "NoCDM           -0.024074   -0.024074   -0.059328 -0.034754  1.000000    NaN  \n",
      "NoCDF                 NaN         NaN         NaN       NaN       NaN    NaN  \n",
      "---------------------------------------------------------------------------------\n",
      "                   Year  Copies1stWeek  CopiesTotal      NoLI  NoFemale  \\\n",
      "Year           1.000000      -0.452160    -0.613865 -0.377752  0.108941   \n",
      "Copies1stWeek -0.452160       1.000000     0.901830  0.332617 -0.048499   \n",
      "CopiesTotal   -0.613865       0.901830     1.000000  0.301250  0.046660   \n",
      "NoLI          -0.377752       0.332617     0.301250  1.000000  0.029332   \n",
      "NoFemale       0.108941      -0.048499     0.046660  0.029332  1.000000   \n",
      "NoFemaleLI    -0.014714      -0.162087    -0.162467 -0.013525  0.079686   \n",
      "NoFemaleLI    -0.014714      -0.162087    -0.162467 -0.013525  0.079686   \n",
      "NoFemaleFI    -0.261281       0.071183     0.171073  0.353651  0.086650   \n",
      "NoLGBT         0.041738      -0.122569    -0.121633  0.051968  0.008699   \n",
      "NoCDM          0.189664      -0.003102    -0.110034  0.004358 -0.084416   \n",
      "NoCDF               NaN            NaN          NaN       NaN       NaN   \n",
      "\n",
      "               NoFemaleLI  NoFemaleLI  NoFemaleFI    NoLGBT     NoCDM  NoCDF  \n",
      "Year            -0.014714   -0.014714   -0.261281  0.041738  0.189664    NaN  \n",
      "Copies1stWeek   -0.162087   -0.162087    0.071183 -0.122569 -0.003102    NaN  \n",
      "CopiesTotal     -0.162467   -0.162467    0.171073 -0.121633 -0.110034    NaN  \n",
      "NoLI            -0.013525   -0.013525    0.353651  0.051968  0.004358    NaN  \n",
      "NoFemale         0.079686    0.079686    0.086650  0.008699 -0.084416    NaN  \n",
      "NoFemaleLI       1.000000    1.000000    0.227856  0.693876 -0.025564    NaN  \n",
      "NoFemaleLI       1.000000    1.000000    0.227856  0.693876 -0.025564    NaN  \n",
      "NoFemaleFI       0.227856    0.227856    1.000000  0.117120 -0.070337    NaN  \n",
      "NoLGBT           0.693876    0.693876    0.117120  1.000000 -0.036556    NaN  \n",
      "NoCDM           -0.025564   -0.025564   -0.070337 -0.036556  1.000000    NaN  \n",
      "NoCDF                 NaN         NaN         NaN       NaN       NaN    NaN  \n",
      "---------------------------------------------------------------------------------\n",
      "                   Year  Copies1stWeek  CopiesTotal      NoLI  NoFemale  \\\n",
      "Year           1.000000      -0.331086    -0.468784 -0.281027  0.083499   \n",
      "Copies1stWeek -0.331086       1.000000     0.752371  0.251110 -0.033345   \n",
      "CopiesTotal   -0.468784       0.752371     1.000000  0.227484  0.038271   \n",
      "NoLI          -0.281027       0.251110     0.227484  1.000000  0.020708   \n",
      "NoFemale       0.083499      -0.033345     0.038271  0.020708  1.000000   \n",
      "NoFemaleLI    -0.011906      -0.132960    -0.133302 -0.011978  0.070413   \n",
      "NoFemaleLI    -0.011906      -0.132960    -0.133302 -0.011978  0.070413   \n",
      "NoFemaleFI    -0.216675       0.056895     0.135626  0.301946  0.079177   \n",
      "NoLGBT         0.034400      -0.100775    -0.099374  0.045129  0.007188   \n",
      "NoCDM          0.159224      -0.002544    -0.090281  0.003795 -0.074989   \n",
      "NoCDF               NaN            NaN          NaN       NaN       NaN   \n",
      "\n",
      "               NoFemaleLI  NoFemaleLI  NoFemaleFI    NoLGBT     NoCDM  NoCDF  \n",
      "Year            -0.011906   -0.011906   -0.216675  0.034400  0.159224    NaN  \n",
      "Copies1stWeek   -0.132960   -0.132960    0.056895 -0.100775 -0.002544    NaN  \n",
      "CopiesTotal     -0.133302   -0.133302    0.135626 -0.099374 -0.090281    NaN  \n",
      "NoLI            -0.011978   -0.011978    0.301946  0.045129  0.003795    NaN  \n",
      "NoFemale         0.070413    0.070413    0.079177  0.007188 -0.074989    NaN  \n",
      "NoFemaleLI       1.000000    1.000000    0.223138  0.690153 -0.025503    NaN  \n",
      "NoFemaleLI       1.000000    1.000000    0.223138  0.690153 -0.025503    NaN  \n",
      "NoFemaleFI       0.223138    0.223138    1.000000  0.114291 -0.068826    NaN  \n",
      "NoLGBT           0.690153    0.690153    0.114291  1.000000 -0.036447    NaN  \n",
      "NoCDM           -0.025503   -0.025503   -0.068826 -0.036447  1.000000    NaN  \n",
      "NoCDF                 NaN         NaN         NaN       NaN       NaN    1.0  \n"
     ]
    }
   ],
   "source": [
    "#games_df = games_df.drop('CERO', axis=1)\n",
    "#games_df = games_df.drop('Date', axis=1)\n",
    "#games_df = games_df.drop('Platform', axis=1)\n",
    "#games_df = games_df.drop('Company', axis=1)\n",
    "#games_df = games_df.drop('Memo', axis=1)\n",
    "# print(games_df)\n",
    "\n",
    "new_games_df = games_df[['Year', 'Copies1stWeek', 'CopiesTotal', 'NoLI', 'NoFemale', 'NoFemaleLI',\n",
    "                         'NoFemaleLI', 'NoFemaleFI', 'NoLGBT', 'NoCDM', 'NoCDF']]\n",
    "\n",
    "new_games_df.replace('', np.nan, inplace=True)\n",
    "print(new_games_df.corr(method=\"pearson\"))\n",
    "print(\"---------------------------------------------------------------------------------\")\n",
    "print(new_games_df.corr(method=\"spearman\"))\n",
    "print(\"---------------------------------------------------------------------------------\")\n",
    "print(new_games_df.corr(method=\"kendall\"))\n"
   ]
  },
  {
   "cell_type": "code",
   "execution_count": null,
   "id": "e3d219e4-7e4f-44b0-93e6-e9b562664629",
   "metadata": {},
   "outputs": [],
   "source": []
  }
 ],
 "metadata": {
  "kernelspec": {
   "display_name": "Python 3 (ipykernel)",
   "language": "python",
   "name": "python3"
  },
  "language_info": {
   "codemirror_mode": {
    "name": "ipython",
    "version": 3
   },
   "file_extension": ".py",
   "mimetype": "text/x-python",
   "name": "python",
   "nbconvert_exporter": "python",
   "pygments_lexer": "ipython3",
   "version": "3.10.13"
  }
 },
 "nbformat": 4,
 "nbformat_minor": 5
}
