{
 "cells": [
  {
   "cell_type": "markdown",
   "id": "0daf9e01-4181-4e2d-8c03-e53a74994465",
   "metadata": {},
   "source": [
    "## Overview and Research Questions:\r",
    "Otome games are a type of romance genre games where the player plays as a female protagonist and can romance one or more male love interests. Markets are increasingly growing in the West, as localization companies like Aksys Games and PQube have been localizing this genre to a Western audience. There is a dedicated community to these games, both in the West and in Japan, mostly consisting of people who identify as women. Within these games, there are often female characters that exist as supporting characters or even as other female protagonists! I'm interested in the presence of these female characters within games where male love interests are spotlighted over them. Does the presence of more female characters increase the success of the games, and if so, what does that say about the writers? And what does that say about the possible presence of misogyny within the otome game community where the focus is typically on male characters? Some direct research questions can include: How do female characters within otome games impact the sales of the games? Conversely, how do male characters within otome games imapct the sales of the games?"
   ]
  },
  {
   "cell_type": "markdown",
   "id": "22627017-b1f2-4bf2-82a3-a8b9258ac6a7",
   "metadata": {},
   "source": [
    "## Background or Related Work:\n",
    "There is one paper on female representation in three popular Chinese mobile otome games, such as Love and Producer, Tears of Themis, and Light and Night (in which I've played two of them myself). Nonetheless, what the paper says is still relevant. The paper itself concluded that \"there is an \n",
    "improvement of female representation in Chinese otome \r\n",
    "games to construct more diverse and professioall\r\n",
    "female images, however, stereotypes influenced by\r\n",
    "traditional gender norms stilxi e\"\"st. (https://www.atlantis-press.com/proceedings/icela-21/125969. This paper, however, only looks at female protagonists rather than other prominent side characters within the games. It also looks mostly at Chinese mobile otome games, which is not within the realms of what my research entails. Though the insights of this literature review were extremely insightful, I believe it is a good idea to move towards the realm of Japanese otome games, where the otome game genre first originated, and conduct a statistical review on other female characters that are not just the main female protagonist. I also think it would be valuable to have a statistical lens towards this top22)"
   ]
  },
  {
   "cell_type": "markdown",
   "id": "b586a30c-6885-4ec4-8610-9def26377d7b",
   "metadata": {},
   "source": [
    "## Data selected for analysis: What dataset(s) do you plan to use, and why? \n",
    "Data link: https://www.kaggle.com/datasets/isabell2018/female-characters-in-japanese-otome-games?select=OtomeGames.csv\n",
    "There are two datasets here: a CSV file of otome games and the number of female characters they have, along with a CSV file of individual female characters in otome games with their characteristics. This dataset uses the MIT license. These datasets are relevant to my problem statement because it directly involves female characters from otome games, has their details, and is also has general information regarding sales and release dates of the otome games themselves. "
   ]
  },
  {
   "cell_type": "markdown",
   "id": "365b55ee-eaed-4ca0-bdce-66580434b6a4",
   "metadata": {},
   "source": [
    "## Methodology\n",
    "I am thinking about making a machine learning model with Scikit Learn in Python. To do that, I will be following a tutorial in the following link (https://www.datacamp.com/tutorial/machine-learning-python). By making a machine learning model, I plan on \"making an otome game\" that will be successful in terms of sales and look at the female character numbers. Then, I will make another otome game that is unsuccessful in terms of sales and look at the female character numbers. This will test the extreme and see if female characters even affect the extremes of otome game sales. Another thing I plan on doing is calculating a Pearson's, Spearman's, and Kendall's coefficient regarding otome game sales and female/male characters to see if they are related in any sense (https://realpython.com/numpy-scipy-pandas-correlation-python/). In order to present my findings, I plan on using visualization tools to demonstrate the usage of the model and also the coefficients to demonstrate it. To accompany that, I will add a scatter plot graph with the Y axis being the sales of the game and the X axis being the number of female characters. \n"
   ]
  },
  {
   "cell_type": "markdown",
   "id": "575e35c3-e762-46f0-b990-faef7aa05a76",
   "metadata": {},
   "source": [
    "## Unknowns and dependencies\n",
    "As far as I know, the only thing that I will most likely have trouble on is the last part of my problem statement where I will make assumptions regarding the effectiveness or writing of these female characters. I am unsure if I will even be able to answer the last question because there is a chance that there is little to no correlation between female characters and popularity within datasets."
   ]
  },
  {
   "cell_type": "code",
   "execution_count": null,
   "id": "60a63d87-1cf3-429c-a4eb-e83180b2f9c3",
   "metadata": {},
   "outputs": [],
   "source": []
  }
 ],
 "metadata": {
  "kernelspec": {
   "display_name": "Python 3 (ipykernel)",
   "language": "python",
   "name": "python3"
  },
  "language_info": {
   "codemirror_mode": {
    "name": "ipython",
    "version": 3
   },
   "file_extension": ".py",
   "mimetype": "text/x-python",
   "name": "python",
   "nbconvert_exporter": "python",
   "pygments_lexer": "ipython3",
   "version": "3.10.13"
  }
 },
 "nbformat": 4,
 "nbformat_minor": 5
}
