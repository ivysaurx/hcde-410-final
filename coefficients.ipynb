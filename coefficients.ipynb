{
 "cells": [
  {
   "cell_type": "markdown",
   "id": "b7965ce9-571c-4e13-845b-3b8af3416550",
   "metadata": {},
   "source": [
    "## Preparing the Dataset\n",
    "The dataset we are using is **OtomeGames.csv**, which we will make readable by Python with the two code chunks below."
   ]
  },
  {
   "cell_type": "code",
   "execution_count": 1,
   "id": "d3dab30b-e57a-4da6-b363-a302962e355b",
   "metadata": {},
   "outputs": [],
   "source": [
    "import csv\n",
    "def prepare_datasets(file_path):\n",
    "    \"\"\" \n",
    "    Accepts: path to a tab-separated plaintext file\n",
    "    Returns: a list containing a dictionary for every row in the file, \n",
    "        with the file column headers as keys\n",
    "    \"\"\"\n",
    "    \n",
    "    with open(file_path) as infile:\n",
    "        reader = csv.DictReader(infile, delimiter=',')\n",
    "        list_of_dicts = [dict(r) for r in reader]\n",
    "        \n",
    "    return list_of_dicts"
   ]
  },
  {
   "cell_type": "code",
   "execution_count": 2,
   "id": "ee5d9991-f067-478a-9627-3385d5b1cb0d",
   "metadata": {},
   "outputs": [],
   "source": [
    "otome_games = prepare_datasets(\"csvfiles/OtomeGames.csv\")"
   ]
  },
  {
   "cell_type": "markdown",
   "id": "b2ba0419-1435-4bb7-b6d8-58ec00ed8f91",
   "metadata": {},
   "source": [
    "## Converting to a DataFrame Object in Pandas\n",
    "Here, we will make it even more digestible to Pandas, a library in Python. We convert the dataset into a DataFrame object. After that, we turned all the empty cells into NaN values, so they would be digestible by the correlation coefficient functions."
   ]
  },
  {
   "cell_type": "code",
   "execution_count": 3,
   "id": "d89dd436-dcc5-4400-a1b4-d8cb224be45b",
   "metadata": {},
   "outputs": [],
   "source": [
    "import pandas as pd\n",
    "import numpy as np\n",
    "games_df = pd.DataFrame(otome_games)"
   ]
  },
  {
   "cell_type": "code",
   "execution_count": 4,
   "id": "4fddd210-25f5-4063-9df9-6545096269e7",
   "metadata": {},
   "outputs": [
    {
     "name": "stderr",
     "output_type": "stream",
     "text": [
      "/tmp/ipykernel_4675/646015364.py:3: SettingWithCopyWarning: \n",
      "A value is trying to be set on a copy of a slice from a DataFrame\n",
      "\n",
      "See the caveats in the documentation: https://pandas.pydata.org/pandas-docs/stable/user_guide/indexing.html#returning-a-view-versus-a-copy\n",
      "  new_games_df.replace('', np.nan, inplace=True)\n"
     ]
    }
   ],
   "source": [
    "new_games_df = games_df[['Copies1stWeek', 'CopiesTotal', 'NoLI', 'NoFemale',\n",
    "                         'NoFemaleLI', 'NoFemaleFI', 'NoLGBT',]]\n",
    "new_games_df.replace('', np.nan, inplace=True)"
   ]
  },
  {
   "cell_type": "markdown",
   "id": "9f80b155-f0ff-43c5-b717-da032de777f5",
   "metadata": {},
   "source": [
    "# Calculating Correlation Coefficients"
   ]
  },
  {
   "cell_type": "markdown",
   "id": "2534e3b6-4046-4f61-8101-fcbb723ca4d1",
   "metadata": {},
   "source": [
    "### Pearson Coefficient"
   ]
  },
  {
   "cell_type": "code",
   "execution_count": 5,
   "id": "6b44bfd1-1d6d-4a0d-b814-b7ddcaa3403f",
   "metadata": {},
   "outputs": [
    {
     "name": "stdout",
     "output_type": "stream",
     "text": [
      "               Copies1stWeek  CopiesTotal      NoLI  NoFemale  NoFemaleLI  \\\n",
      "Copies1stWeek       1.000000     0.878076  0.398802 -0.093105   -0.093844   \n",
      "CopiesTotal         0.878076     1.000000  0.306858  0.037081   -0.073801   \n",
      "NoLI                0.398802     0.306858  1.000000 -0.042660    0.044341   \n",
      "NoFemale           -0.093105     0.037081 -0.042660  1.000000    0.031413   \n",
      "NoFemaleLI         -0.093844    -0.073801  0.044341  0.031413    1.000000   \n",
      "NoFemaleFI          0.338679     0.479197  0.425383  0.091782    0.286812   \n",
      "NoLGBT             -0.102215    -0.083519  0.048320 -0.030395    0.532482   \n",
      "\n",
      "               NoFemaleFI    NoLGBT  \n",
      "Copies1stWeek    0.338679 -0.102215  \n",
      "CopiesTotal      0.479197 -0.083519  \n",
      "NoLI             0.425383  0.048320  \n",
      "NoFemale         0.091782 -0.030395  \n",
      "NoFemaleLI       0.286812  0.532482  \n",
      "NoFemaleFI       1.000000  0.088336  \n",
      "NoLGBT           0.088336  1.000000  \n"
     ]
    }
   ],
   "source": [
    "print(new_games_df.corr(method=\"pearson\"))"
   ]
  },
  {
   "cell_type": "markdown",
   "id": "41f8c912-9b60-42fd-8318-7a52b18c5869",
   "metadata": {},
   "source": [
    "### Spearman Coefficient"
   ]
  },
  {
   "cell_type": "code",
   "execution_count": 6,
   "id": "7257c06d-7cd1-448e-b30d-6c4e9b20cbf4",
   "metadata": {},
   "outputs": [
    {
     "name": "stdout",
     "output_type": "stream",
     "text": [
      "               Copies1stWeek  CopiesTotal      NoLI  NoFemale  NoFemaleLI  \\\n",
      "Copies1stWeek       1.000000     0.901830  0.332617 -0.048499   -0.162087   \n",
      "CopiesTotal         0.901830     1.000000  0.301250  0.046660   -0.162467   \n",
      "NoLI                0.332617     0.301250  1.000000  0.029332   -0.013525   \n",
      "NoFemale           -0.048499     0.046660  0.029332  1.000000    0.079686   \n",
      "NoFemaleLI         -0.162087    -0.162467 -0.013525  0.079686    1.000000   \n",
      "NoFemaleFI          0.071183     0.171073  0.353651  0.086650    0.227856   \n",
      "NoLGBT             -0.122569    -0.121633  0.051968  0.008699    0.693876   \n",
      "\n",
      "               NoFemaleFI    NoLGBT  \n",
      "Copies1stWeek    0.071183 -0.122569  \n",
      "CopiesTotal      0.171073 -0.121633  \n",
      "NoLI             0.353651  0.051968  \n",
      "NoFemale         0.086650  0.008699  \n",
      "NoFemaleLI       0.227856  0.693876  \n",
      "NoFemaleFI       1.000000  0.117120  \n",
      "NoLGBT           0.117120  1.000000  \n"
     ]
    }
   ],
   "source": [
    "print(new_games_df.corr(method=\"spearman\"))"
   ]
  },
  {
   "cell_type": "markdown",
   "id": "1de12783-dc1f-4bae-936d-a836aca8d7e0",
   "metadata": {},
   "source": [
    "### Kendall Coefficient"
   ]
  },
  {
   "cell_type": "code",
   "execution_count": 7,
   "id": "dd1a077a-c1ec-4eef-b6e0-664acce9fd8d",
   "metadata": {},
   "outputs": [
    {
     "name": "stdout",
     "output_type": "stream",
     "text": [
      "               Copies1stWeek  CopiesTotal      NoLI  NoFemale  NoFemaleLI  \\\n",
      "Copies1stWeek       1.000000     0.752371  0.251110 -0.033345   -0.132960   \n",
      "CopiesTotal         0.752371     1.000000  0.227484  0.038271   -0.133302   \n",
      "NoLI                0.251110     0.227484  1.000000  0.020708   -0.011978   \n",
      "NoFemale           -0.033345     0.038271  0.020708  1.000000    0.070413   \n",
      "NoFemaleLI         -0.132960    -0.133302 -0.011978  0.070413    1.000000   \n",
      "NoFemaleFI          0.056895     0.135626  0.301946  0.079177    0.223138   \n",
      "NoLGBT             -0.100775    -0.099374  0.045129  0.007188    0.690153   \n",
      "\n",
      "               NoFemaleFI    NoLGBT  \n",
      "Copies1stWeek    0.056895 -0.100775  \n",
      "CopiesTotal      0.135626 -0.099374  \n",
      "NoLI             0.301946  0.045129  \n",
      "NoFemale         0.079177  0.007188  \n",
      "NoFemaleLI       0.223138  0.690153  \n",
      "NoFemaleFI       1.000000  0.114291  \n",
      "NoLGBT           0.114291  1.000000  \n"
     ]
    }
   ],
   "source": [
    "print(new_games_df.corr(method=\"kendall\"))"
   ]
  },
  {
   "cell_type": "markdown",
   "id": "59e4f317-de0f-4f14-a7ae-5fb05c90d260",
   "metadata": {},
   "source": [
    "## What coefficients should we keep note of?\n",
    "For each of the types of coefficients (Pearson, Spearman, and Kendall), we should be looking at the rows that are labeled with **Copies1stWeek** and **CopiesTotal** and their intersections with relevant categories.\n",
    "A positive coefficient means that category has a positive impact towards CopiesTotal/Copies1stWeek, meaning that when that category increases in number, CopiesTotal/Copies1stWeek also happen to increase at the same time. If the value is closer to 0, there is less likely of a correlation. If the number is closer to 1, it means there is a 1-on-1 correlation.\n",
    "### Number of Love Interests: NoLI\n",
    "Pearson:\n",
    "- Copies1stWeek: 0.398802\n",
    "- CopiesTotal: 0.306858\n",
    "\n",
    "Spearman:\n",
    "- Copies1st Week: 0.332617\n",
    "- CopiesTotal: 0.301250\n",
    "  \n",
    "Kendall:\n",
    "- Copies1stWeek: 0.251110\n",
    "- CopiesTotal: 0.227484\n",
    "\n",
    "Overall, there is a positive correlation between all of them and they are all very similar in terms of values, with the Kendall coefficient being noticeably smaller than the Pearson and Spearman coefficients. It is safe to say that the number of love interests and the copies sold are positively correlated.\n",
    "\n",
    "### Number of Female Main Characters:\n",
    "Pearson:\n",
    "- Copies1stWeek: -0.093105\n",
    "- CopiesTotal: 0.037081\n",
    "\n",
    "Spearman:\n",
    "- Copies1stWeek: -0.048499\n",
    "- CopiesTotal: 0.046660\n",
    "  \n",
    "Kendall:\n",
    "- Copies1stWeek: -0.033345\n",
    "- CopiesTotal: 0.038271\n",
    "\n",
    "The correlation values vary a lot more within this category, especially with the values being extremely close to 0 and their alternation between negative and positive value between Copies1stWeek and CopiesTotal. Because of this, it is safe to say that the number of female main characters does not affect the sales of otome games.\n",
    "\n",
    "### Number of Female Love Interests:\n",
    "Pearson:\n",
    "- Copies1stWeek: -0.093844\n",
    "- CopiesTotal: -0.073801\n",
    "\n",
    "Spearman:\n",
    "- Copies1stWeek: -0.162087\n",
    "- CopiesTotal: -0.162467\n",
    "  \n",
    "Kendall:\n",
    "- Copies1stWeek: -0.132960\n",
    "- CopiesTotal: -0.133302\n",
    "\n",
    "Although the values are arguably close to 0, the fact that all of the values are negative is seemingly significant. It is reasonable to assume that the number of female love interests in an otome game has a small yet negative effect towards sales.\n",
    "\n",
    "### Number of Female Friendship Interests:\n",
    "Pearson:\n",
    "- Copies1stWeek: 0.338679\n",
    "- CopiesTotal: 0.479197\n",
    "\n",
    "Spearman:\n",
    "- Copies1stWeek: 0.071183\n",
    "- CopiesTotal: 0.135626\n",
    "  \n",
    "Kendall:\n",
    "- Copies1stWeek: 0.056895\n",
    "- CopiesTotal: 0.135626\n",
    "\n",
    "This one is interesting! The Pearson coefficient is very different compared to the Spearman and Kendall coefficients, with it being much higher. If we follow the Pearson coefficient, we could say that there is a relatively significant positive correlation between the number of female friendship interests and the number of sales. However, it is important to notice that the Spearman and Kendall values are still close to 0, albeit they are positive. With all of those factors in mind, it is most likely that the number of female friendship interests has a small yet positive impact on sales.\n",
    "\n",
    "### Number of LGBT characters\n",
    "Pearson:\n",
    "- Copies1stWeek: -0.102215\n",
    "- CopiesTotal: -0.083519\n",
    "\n",
    "Spearman:\n",
    "- Copies1stWeek: -0.122569\n",
    "- CopiesTotal: -0.121633\n",
    "  \n",
    "Kendall:\n",
    "- Copies1stWeek: -0.100775\n",
    "- CopiesTotal: -0.099374\n",
    "\n",
    "Similar to the number of female interests, the coefficients are all very close to 0 but are all negative values. It is reasonble to assume that the number of LGBT characters in an otome game has a small yet negative effect towards sales."
   ]
  },
  {
   "cell_type": "markdown",
   "id": "f8555a87-9f8b-436d-a5a7-ab7ecd5bac48",
   "metadata": {},
   "source": [
    "# What's Next?\n",
    "Next, we go onto **machinelearning.ipynb** where we try to optimize the sales of otome games!"
   ]
  }
 ],
 "metadata": {
  "kernelspec": {
   "display_name": "Python 3 (ipykernel)",
   "language": "python",
   "name": "python3"
  },
  "language_info": {
   "codemirror_mode": {
    "name": "ipython",
    "version": 3
   },
   "file_extension": ".py",
   "mimetype": "text/x-python",
   "name": "python",
   "nbconvert_exporter": "python",
   "pygments_lexer": "ipython3",
   "version": "3.10.13"
  }
 },
 "nbformat": 4,
 "nbformat_minor": 5
}
